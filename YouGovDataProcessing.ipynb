{
 "cells": [
  {
   "cell_type": "code",
   "execution_count": 1,
   "metadata": {},
   "outputs": [],
   "source": [
    "import numpy as np\n",
    "import pandas as pd\n",
    "\n",
    "from polls import polls\n",
    "\n",
    "from plot_functions import *\n",
    "\n",
    "%matplotlib inline\n",
    "\n",
    "#from bokeh.io import output_notebook\n",
    "#output_notebook()"
   ]
  },
  {
   "cell_type": "code",
   "execution_count": 7,
   "metadata": {},
   "outputs": [
    {
     "name": "stdout",
     "output_type": "stream",
     "text": [
      "Interest in news and public affairs\n",
      "Political Interest\n",
      "Direction of the country\n",
      "Direction of the country (2016)\n",
      "Trust government to do what's right\n",
      "Barack Obama Approval\n",
      "Barack Obama Approval (2016)\n",
      "Hours watch TV daily\n",
      "Ideology\n",
      "Issue Importance: Iraq War\n",
      "Issue Importance: The Economy\n",
      "Issue Importance: Immigration\n",
      "Issue Importance: The Environment\n",
      "Issue Importance: Terrorism\n",
      "Issue Importance: Gay Rights\n",
      "Issue Importance: Education\n",
      "Issue Importance: Health Care\n",
      "Issue Importance: Social Security\n",
      "Issue Importance: The Budget Deficit\n",
      "Issue Importance: The War in Afganistan\n",
      "Issue Importance: Taxes\n",
      "Issue Importance: Medicare\n",
      "Issue Importance: Abortion\n",
      "Issue Importance: Crime (2016)\n",
      "Issue Importance: The Economy (2016)\n",
      "Issue Importance: Immigration (2016)\n",
      "Issue Importance: The Environment (2016)\n",
      "Issue Importance: Religious Liberty (2016)\n",
      "Issue Importance: Terrorism (2016)\n",
      "Issue Importance: Gay Rights (2016)\n",
      "Issue Importance: Family and Medical Leave (2016)\n",
      "Issue Importance: Health Care (2016)\n",
      "Issue Importance: Money in Politics (2016)\n",
      "Issue Importance: Climate Change (2016)\n",
      "Issue Importance: Social Security\n",
      "Issue Importance: Infrastructure Investment\n",
      "Issue Importance: Jobs\n",
      "Issue Importance: The Budget Deficit (2016)\n",
      "Issue Importance: Poverty\n",
      "Issue Importance: Taxes (2016)\n",
      "Issue Importance: Medicare (2016)\n",
      "Issue Importance: Abortion (2016)\n",
      "Issue Importance: The size of Government (2016)\n",
      "Issue Importance: Racial Equality (2016)\n",
      "Issue Importance: Gender Equality (2016)\n",
      "Most important issues\n",
      "Illegal Immigrants Contribute or Drain\n",
      "Illegal Immigrants Contribute or Drain (2016)\n",
      "Illegal Immigrant Naturalization\n",
      "Illegal Immigrant Naturalization (2016)\n",
      "Harder/Easier to Immigrate\n",
      "Harder/Easier to Immigrate (2016)\n",
      "Abortion views\n",
      "Abortion views (2016)\n",
      "Gay Marriage\n",
      "Gay Marriage (2016)\n",
      "Death Penalty\n",
      "Death Penalty Frequency\n",
      "Death Penalty (2016)\n",
      "Death Penalty Frequency (2016)\n",
      "Increase Taxes on Wealthy\n",
      "Federal government responsibility for healthcare\n",
      "Federal government responsibility for healthcare (2016)\n",
      "Existence of Global Warming\n",
      "Existence of Global Warming (2016)\n",
      "Seriousness of Global Warming Problem\n",
      "Cause of global warming\n",
      "Cause of global warming (2016)\n",
      "Favor or oppose affirmative action for women and racial minorities\n",
      "Favor or oppose affirmative action for women and racial minorities (2016)\n",
      "Favor or oppose increasing trade\n",
      "Favor or oppose increasing trade (2016)\n",
      "Level of government regulation\n",
      "Level of government regulation (2016)\n",
      "7 point party ID\n",
      "7 point party ID (2016)\n",
      "3 point party ID\n",
      "3 point party ID (2016)\n",
      "Generic Presidential Vote\n",
      "Marital Status\n",
      "Marital Status (2016)\n",
      "Own involvement in Tea Party movement\n",
      "Support for Tea Party\n",
      "Self Described Libertarian\n",
      "Self Described Socialist\n",
      "Self Described Green\n",
      "Self Described Environmentalist\n",
      "Self Described Liberal\n",
      "Self Described Moderate\n",
      "Self Described Conservative\n",
      "Self Described Radical\n",
      "Self Described Progressive\n",
      "Self Described Traditional\n",
      "Self Described Christian\n",
      "Self Described Feminist\n",
      "Self Described Fundamentalist\n",
      "Pro-life or Pro-Choice\n",
      "Black deservedeness\n",
      "Black deservedeness (2016)\n",
      "Irish, Italians, and Jews Overcoming Prejudice\n",
      "Irish, Italians, and Jews Overcoming Prejudice (2016)\n",
      "Blacks should try harder\n",
      "Blacks should try harder (2016)\n",
      "Modern day impact of slavery\n",
      "Modern day impact of slavery\n",
      "Own or Rent\n",
      "Voting frequency\n",
      "Partisan Voter Reliability\n",
      "Voted in 2008 Presidential Election\n",
      "2008 Presidential Vote\n",
      "2010 Congressional Vote\n",
      "Barack Obama Favorability\n",
      "Hillary Clinton Favorability\n",
      "Born Again Christains\n",
      "Born Again Christains (2016)\n",
      "Imporance of religion\n",
      "Imporance of religion (2016)\n",
      "Church attendance\n",
      "Church attendance (2016)\n",
      "Frequency of prayer\n",
      "Frequency of prayer (2016)\n",
      "Religion\n",
      "Religion (2016)\n",
      "Gun Ownership\n",
      "Gun Ownership (2016)\n",
      "Know an LGBT Person\n",
      "Gender\n",
      "Race\n",
      "Education\n",
      "Employment Status\n",
      "Employment Status (2016)\n",
      "Family Income\n",
      "Family Income\n",
      "Voter Registration\n",
      "Voter Turnout\n",
      "2016 Presidential Vote\n",
      "Vote for or against\n",
      "Sanders vs. Trump\n",
      "Voter Regret\n",
      "Trump Favorability\n",
      "Cruz Favorability\n",
      "Ryan Favorability\n",
      "Romney Favorability\n",
      "Obama Favorability\n",
      "Hillary Clinton Favorability\n",
      "Sanders Favorability\n",
      "Rigged System\n",
      "Fair Society\n",
      "Economic system favors the wealthy\n",
      "Media Trust\n",
      "Government Accountability\n",
      "Life Better or Worse\n",
      "Trust government to do what's right (2016)\n",
      "Muslim Ban\n",
      "Raising Taxes for the Wealthy (2016)\n",
      "Reverse Discrimination\n",
      "Ideology (2016)\n",
      "Primary Vote (2016)\n",
      "Democratic Primary (2016)\n",
      "Republican Primary (2016)\n",
      "Feelings about Blacks\n",
      "Feelings about Whites\n",
      "Feelings about Hispanics\n",
      "Feelings about Muslims\n",
      "Feelings about Feminists\n",
      "Feelings about Immigrants\n",
      "Feelings about Black Lives Matter\n",
      "Feelings about Wall Street Bankers\n",
      "Feelings about Gays\n",
      "Feelings about Police\n",
      "Feelings about The Alt Right\n",
      "Age\n"
     ]
    }
   ],
   "source": [
    "YouGovData = pd.read_csv('./VOTER_Survey_December16_Release1.csv')\n",
    "\n",
    "options = [value[0] for value in polls.values()]\n",
    "for opt in options:\n",
    "    print(opt)"
   ]
  },
  {
   "cell_type": "code",
   "execution_count": null,
   "metadata": {
    "collapsed": true
   },
   "outputs": [],
   "source": [
    "#plot_constructor(YouGovData)"
   ]
  },
  {
   "cell_type": "code",
   "execution_count": 17,
   "metadata": {},
   "outputs": [
    {
     "name": "stdout",
     "output_type": "stream",
     "text": [
      "Categorize by: abortidentity_baseline\n",
      "Plot:presvote16post_2016\n"
     ]
    }
   ],
   "source": [
    "bokeh_constructor(YouGovData, polls)"
   ]
  },
  {
   "cell_type": "code",
   "execution_count": 9,
   "metadata": {
    "collapsed": true
   },
   "outputs": [],
   "source": [
    "keys = [el for el in polls.keys()]\n",
    "ans_opts = [list(polls[key][3]) for key in keys]\n",
    "uniques = []\n",
    "for i in range(len(ans_opts)):\n",
    "    if not ans_opts[i] in uniques:\n",
    "        uniques.append(ans_opts[i])\n",
    "\n",
    "ans_lengths = []\n",
    "for i in range(len(uniques)):\n",
    "    if not len(uniques[i]) in ans_lengths:\n",
    "        ans_lengths.append(len(uniques[i]))\n",
    "        \n",
    "poll_keys = [el for el in polls.keys()]\n",
    "features = []\n",
    "for i in range(len(YouGovData.columns)):\n",
    "    if YouGovData.columns[i] in poll_keys:\n",
    "        features.append(YouGovData.columns[i])\n",
    "        \n",
    "features_no_trump = [el for el in features if el != 'fav_trump_2016']\n",
    "features_no_trump = [el for el in features_no_trump if el != 'Sanders_Trump_2016']\n",
    "features_no_trump = [el for el in features_no_trump if el != 'presvote16post_2016']\n",
    "features_no_trump = [el for el in features_no_trump if el != 'presvote08_baseline']\n",
    "features_no_trump = [el for el in features_no_trump if el != 'pid7_2016']\n",
    "features_no_trump = [el for el in features_no_trump if el != 'pid7_baseline']\n",
    "features_no_trump = [el for el in features_no_trump if el != 'pid3_baseline']\n",
    "features_no_trump = [el for el in features_no_trump if el != 'pid3_2016']\n",
    "features_no_trump = [el for el in features_no_trump if el != 'immi_muslim_2016']\n",
    "features_no_trump = [el for el in features_no_trump if el != 'straighttic_baseline']\n",
    "\n",
    "features_no_trump.append(\"Target\")\n",
    "\n",
    "features_no_trump = features_no_trump[14:]"
   ]
  },
  {
   "cell_type": "code",
   "execution_count": 10,
   "metadata": {
    "collapsed": true
   },
   "outputs": [],
   "source": [
    "fav_trump_or_nah = {\n",
    "    1 : 1, \n",
    "    2 : 1, \n",
    "    3 : 2, \n",
    "    4 : 2,\n",
    "    8 : 3,\n",
    "    np.nan : 4\n",
    "}\n",
    "\n",
    "vote_trump_or_nah = {\n",
    "    2 : 1,\n",
    "    1 : 2,\n",
    "    3 : 2,\n",
    "    4 : 2,\n",
    "    5 : 2,\n",
    "    6 : 2,\n",
    "    7 : 2,\n",
    "    666: 3\n",
    "}\n",
    "#print([(el1, el2) for el1 in YouGovData['case_identifier'] for el2 in YouGovData['presvote16post_2016']])"
   ]
  },
  {
   "cell_type": "code",
   "execution_count": 11,
   "metadata": {},
   "outputs": [
    {
     "name": "stdout",
     "output_type": "stream",
     "text": [
      "8000\n"
     ]
    }
   ],
   "source": [
    "def encode_target(data, target_column, features, alt_features):\n",
    "    df_mod = data[features].copy()\n",
    "    #df_mod = df_mod.fillna(666)\n",
    "    targets = df_mod[target_column].unique()\n",
    "    map_to_int = fav_trump_or_nah\n",
    "    df_mod[\"Target\"] = df_mod[target_column].replace(map_to_int)\n",
    "    df_mod = df_mod[alt_features].copy()\n",
    "    \n",
    "    return (df_mod, targets)\n",
    "\n",
    "csfy_data, targets = encode_target(YouGovData, 'fav_trump_2016', features, features_no_trump)\n",
    "print(len(csfy_data[\"Target\"]))"
   ]
  },
  {
   "cell_type": "code",
   "execution_count": 12,
   "metadata": {},
   "outputs": [
    {
     "name": "stdout",
     "output_type": "stream",
     "text": [
      "7360\n"
     ]
    },
    {
     "data": {
      "text/plain": [
       "DecisionTreeClassifier(class_weight=None, criterion='gini', max_depth=None,\n",
       "            max_features=None, max_leaf_nodes=None,\n",
       "            min_impurity_decrease=0.0, min_impurity_split=None,\n",
       "            min_samples_leaf=1, min_samples_split=2,\n",
       "            min_weight_fraction_leaf=0.0, presort=False, random_state=1993,\n",
       "            splitter='best')"
      ]
     },
     "execution_count": 12,
     "metadata": {},
     "output_type": "execute_result"
    }
   ],
   "source": [
    "from sklearn.tree import DecisionTreeClassifier\n",
    "from sklearn.model_selection import train_test_split\n",
    "from sklearn.metrics import accuracy_score\n",
    "from sklearn.preprocessing import Imputer\n",
    "\n",
    "y = csfy_data[\"Target\"]\n",
    "x = csfy_data[features_no_trump[:-1]]\n",
    "\n",
    "imp = Imputer(missing_values='NaN', strategy='mean', axis=0)\n",
    "imp.fit(x)\n",
    "x = imp.transform(x)\n",
    "\n",
    "x_train, x_test, y_train, y_test = train_test_split(x, y, random_state=1993, test_size=0.08)\n",
    "\n",
    "print(len(x_train))\n",
    "\n",
    "dt = DecisionTreeClassifier(random_state=1993)\n",
    "dt.fit(x_train, y_train)"
   ]
  },
  {
   "cell_type": "code",
   "execution_count": 13,
   "metadata": {},
   "outputs": [
    {
     "data": {
      "text/plain": [
       "0.8046875"
      ]
     },
     "execution_count": 13,
     "metadata": {},
     "output_type": "execute_result"
    }
   ],
   "source": [
    "predicted = dt.predict(x_test)\n",
    "accuracy_score(y_test, predicted)"
   ]
  },
  {
   "cell_type": "code",
   "execution_count": null,
   "metadata": {
    "collapsed": true
   },
   "outputs": [],
   "source": [
    "from sklearn.tree import export_graphviz\n",
    "import subprocess"
   ]
  },
  {
   "cell_type": "code",
   "execution_count": null,
   "metadata": {
    "collapsed": true
   },
   "outputs": [],
   "source": [
    "def visualize_tree(tree, feature_names):\n",
    "    with open(\"dt.dot\", 'w') as f:\n",
    "        export_graphviz(tree, out_file=f, feature_names=feature_names)\n",
    "        \n",
    "    command = [\"dot\", \"-Tpng\", \"dt.dot\", \"-o\", \"dt.png\"]\n",
    "    try:\n",
    "        subprocess.check_call(command)\n",
    "    except:\n",
    "        print(\"Something failed\")\n",
    "\n",
    "visualize_tree(dt, features_no_trump[:-1])"
   ]
  },
  {
   "cell_type": "code",
   "execution_count": null,
   "metadata": {},
   "outputs": [],
   "source": [
    "importances = np.array(dt.feature_importances_)\n",
    "top_10 = importances.argsort()[-10:][::-1]\n",
    "print([features_no_trump[i] for i in top_10])\n",
    "print([importances[i] for i in top_10])"
   ]
  },
  {
   "cell_type": "code",
   "execution_count": null,
   "metadata": {},
   "outputs": [],
   "source": [
    "from sklearn.ensemble import RandomForestClassifier\n",
    "\n",
    "n_trees = 1000\n",
    "dtrf = RandomForestClassifier(n_trees)\n",
    "dtrf.fit(x_train,y_train)\n",
    "\n",
    "plt_x = np.linspace(0,len(features)-1,len(features))\n",
    "print(\"Features sorted by their score:\")\n",
    "print(sorted(zip(map(lambda x: float(\"{0:.2f}\".format(round(x, 4))), dtrf.feature_importances_), features),\n",
    "             reverse=True))\n",
    "\n",
    "#plt.bar(plt_x, dtrf.feature_importances_, width=0.5, color=\"blue\",align='center')\n",
    "#plt.gca().set_xticklabels(plt_x, rotation=60 )\n",
    "#plt.xticks(plt_x, features)\n",
    "#plt.ylabel(\"relative information\")\n",
    "#plt.xlabel(\"features\")\n",
    "#plt.show()"
   ]
  },
  {
   "cell_type": "code",
   "execution_count": null,
   "metadata": {
    "collapsed": true
   },
   "outputs": [],
   "source": []
  }
 ],
 "metadata": {
  "kernelspec": {
   "display_name": "Python [default]",
   "language": "python",
   "name": "python3"
  },
  "language_info": {
   "codemirror_mode": {
    "name": "ipython",
    "version": 3
   },
   "file_extension": ".py",
   "mimetype": "text/x-python",
   "name": "python",
   "nbconvert_exporter": "python",
   "pygments_lexer": "ipython3",
   "version": "3.6.3"
  }
 },
 "nbformat": 4,
 "nbformat_minor": 2
}
